{
  "nbformat": 4,
  "nbformat_minor": 0,
  "metadata": {
    "colab": {
      "name": "Parsing web pages , term frequency.ipynb",
      "provenance": [],
      "collapsed_sections": [],
      "authorship_tag": "ABX9TyNOKLWeayyC97M9PFFafsMT",
      "include_colab_link": true
    },
    "kernelspec": {
      "name": "python3",
      "display_name": "Python 3"
    }
  },
  "cells": [
    {
      "cell_type": "markdown",
      "metadata": {
        "id": "view-in-github",
        "colab_type": "text"
      },
      "source": [
        "<a href=\"https://colab.research.google.com/github/explicitgeek/Web-Mining/blob/master/Creating%20Data%20Frame%20of%20Term%20Frequency.ipynb\" target=\"_parent\"><img src=\"https://colab.research.google.com/assets/colab-badge.svg\" alt=\"Open In Colab\"/></a>"
      ]
    },
    {
      "cell_type": "code",
      "metadata": {
        "id": "WzhLhk2aflW4",
        "colab_type": "code",
        "colab": {
          "base_uri": "https://localhost:8080/",
          "height": 50
        },
        "outputId": "a9d1235c-a612-4530-ef2b-56730ac8fa78"
      },
      "source": [
        "!pip install nltk "
      ],
      "execution_count": 1,
      "outputs": [
        {
          "output_type": "stream",
          "text": [
            "Requirement already satisfied: nltk in /usr/local/lib/python3.6/dist-packages (3.2.5)\n",
            "Requirement already satisfied: six in /usr/local/lib/python3.6/dist-packages (from nltk) (1.15.0)\n"
          ],
          "name": "stdout"
        }
      ]
    },
    {
      "cell_type": "code",
      "metadata": {
        "id": "aTkbHb7LqzKU",
        "colab_type": "code",
        "colab": {
          "base_uri": "https://localhost:8080/",
          "height": 67
        },
        "outputId": "70e7e019-381d-4712-9b07-4e6ae8cb5c6d"
      },
      "source": [
        "import nltk\n",
        "nltk.download('stopwords')"
      ],
      "execution_count": 5,
      "outputs": [
        {
          "output_type": "stream",
          "text": [
            "[nltk_data] Downloading package stopwords to /root/nltk_data...\n",
            "[nltk_data]   Unzipping corpora/stopwords.zip.\n"
          ],
          "name": "stdout"
        },
        {
          "output_type": "execute_result",
          "data": {
            "text/plain": [
              "True"
            ]
          },
          "metadata": {
            "tags": []
          },
          "execution_count": 5
        }
      ]
    },
    {
      "cell_type": "code",
      "metadata": {
        "id": "R2nLZeiQrGdL",
        "colab_type": "code",
        "colab": {}
      },
      "source": [
        "from nltk.corpus import stopwords\n",
        "\n",
        "# Initialize the stopwords\n",
        "stoplist = stopwords.words('english')"
      ],
      "execution_count": 6,
      "outputs": []
    },
    {
      "cell_type": "code",
      "metadata": {
        "id": "58hUq-jKySIW",
        "colab_type": "code",
        "colab": {
          "base_uri": "https://localhost:8080/",
          "height": 67
        },
        "outputId": "c7162e40-c11d-4d5a-af8f-239752ba4506"
      },
      "source": [
        "nltk.download('punkt')"
      ],
      "execution_count": 11,
      "outputs": [
        {
          "output_type": "stream",
          "text": [
            "[nltk_data] Downloading package punkt to /root/nltk_data...\n",
            "[nltk_data]   Unzipping tokenizers/punkt.zip.\n"
          ],
          "name": "stdout"
        },
        {
          "output_type": "execute_result",
          "data": {
            "text/plain": [
              "True"
            ]
          },
          "metadata": {
            "tags": []
          },
          "execution_count": 11
        }
      ]
    },
    {
      "cell_type": "code",
      "metadata": {
        "id": "itb_cwd0rIHE",
        "colab_type": "code",
        "colab": {
          "base_uri": "https://localhost:8080/",
          "height": 54
        },
        "outputId": "3feb2cc3-33ed-4d73-b5dc-7182dad87781"
      },
      "source": [
        "print(stoplist)"
      ],
      "execution_count": 7,
      "outputs": [
        {
          "output_type": "stream",
          "text": [
            "['i', 'me', 'my', 'myself', 'we', 'our', 'ours', 'ourselves', 'you', \"you're\", \"you've\", \"you'll\", \"you'd\", 'your', 'yours', 'yourself', 'yourselves', 'he', 'him', 'his', 'himself', 'she', \"she's\", 'her', 'hers', 'herself', 'it', \"it's\", 'its', 'itself', 'they', 'them', 'their', 'theirs', 'themselves', 'what', 'which', 'who', 'whom', 'this', 'that', \"that'll\", 'these', 'those', 'am', 'is', 'are', 'was', 'were', 'be', 'been', 'being', 'have', 'has', 'had', 'having', 'do', 'does', 'did', 'doing', 'a', 'an', 'the', 'and', 'but', 'if', 'or', 'because', 'as', 'until', 'while', 'of', 'at', 'by', 'for', 'with', 'about', 'against', 'between', 'into', 'through', 'during', 'before', 'after', 'above', 'below', 'to', 'from', 'up', 'down', 'in', 'out', 'on', 'off', 'over', 'under', 'again', 'further', 'then', 'once', 'here', 'there', 'when', 'where', 'why', 'how', 'all', 'any', 'both', 'each', 'few', 'more', 'most', 'other', 'some', 'such', 'no', 'nor', 'not', 'only', 'own', 'same', 'so', 'than', 'too', 'very', 's', 't', 'can', 'will', 'just', 'don', \"don't\", 'should', \"should've\", 'now', 'd', 'll', 'm', 'o', 're', 've', 'y', 'ain', 'aren', \"aren't\", 'couldn', \"couldn't\", 'didn', \"didn't\", 'doesn', \"doesn't\", 'hadn', \"hadn't\", 'hasn', \"hasn't\", 'haven', \"haven't\", 'isn', \"isn't\", 'ma', 'mightn', \"mightn't\", 'mustn', \"mustn't\", 'needn', \"needn't\", 'shan', \"shan't\", 'shouldn', \"shouldn't\", 'wasn', \"wasn't\", 'weren', \"weren't\", 'won', \"won't\", 'wouldn', \"wouldn't\"]\n"
          ],
          "name": "stdout"
        }
      ]
    },
    {
      "cell_type": "code",
      "metadata": {
        "id": "Nk79b108rXns",
        "colab_type": "code",
        "colab": {
          "base_uri": "https://localhost:8080/",
          "height": 138
        },
        "outputId": "f1adc439-a835-4e26-ddda-7871b04e0dbe"
      },
      "source": [
        "import re\n",
        "from nltk.tokenize import word_tokenize\n",
        "\n",
        "from bs4 import BeautifulSoup\n",
        "from urllib import request\n",
        "import pandas as pd\n",
        "\n",
        "url = \"http://news.bbc.co.uk/2/hi/health/2284783.stm\"\n",
        "html = request.urlopen(url).read().decode('utf-8')\n",
        "\n",
        "raw = BeautifulSoup(html,'html.parser').get_text()\n",
        "tokens = word_tokenize(raw)\n",
        "\n",
        "l = []\n",
        "\n",
        "for k in tokens:\n",
        "  temp = re.sub(r\"[^a-zA-Z0-9]+\", ' ', k)\n",
        "  if temp != ' ':\n",
        "    l.append(temp)\n",
        "print(l)\n",
        "\n",
        "df = pd.DataFrame(columns = l)\n",
        "print(df.head())"
      ],
      "execution_count": 12,
      "outputs": [
        {
          "output_type": "stream",
          "text": [
            "['BBC', 'NEWS', 'Health', 'Blondes', ' to', 'die', 'out', 'in', '200', 'years ', 'NEWS', 'SPORT', 'WEATHER', 'WORLD', 'SERVICE', 'A Z', 'INDEX', 'SEARCH', 'You', 'are', 'in', 'Health', 'News', 'Front', 'Page', 'Africa', 'Americas', 'Asia Pacific', 'Europe', 'Middle', 'East', 'South', 'Asia', 'UK', 'Business', 'Entertainment', 'Science Nature', 'Technology', 'Health', 'Medical', 'notes', 'Talking', 'Point', 'Country', 'Profiles', 'In', 'Depth', 'Programmes', 'SERVICES', 'Daily', 'E mail', 'News', 'Ticker', 'Mobile PDAs', 'Text', 'Only', 'Feedback', 'Help', 'EDITIONS', 'Change', 'to', 'UK', 'Friday', '27', 'September', '2002', '11 51', 'GMT', '12 51', 'UK', 'Blondes', ' to', 'die', 'out', 'in', '200', 'years ', 'Scientists', 'believe', 'the', 'last', 'blondes', 'will', 'be', 'in', 'Finland', 'The', 'last', 'natural', 'blondes', 'will', 'die', 'out', 'within', '200', 'years', 'scientists', 'believe', 'A', 'study', 'by', 'experts', 'in', 'Germany', 'suggests', 'people', 'with', 'blonde', 'hair', 'are', 'an', 'endangered', 'species', 'and', 'will', 'become', 'extinct', 'by', '2202', 'Researchers', 'predict', 'the', 'last', 'truly', 'natural', 'blonde', 'will', 'be', 'born', 'in', 'Finland', 'the', 'country', 'with', 'the', 'highest', 'proportion', 'of', 'blondes', 'The', 'frequency', 'of', 'blondes', 'may', 'drop', 'but', 'they', 'wo', 'n t', 'disappear', 'Prof', 'Jonathan', 'Rees', 'University', 'of', 'Edinburgh', 'But', 'they', 'say', 'too', 'few', 'people', 'now', 'carry', 'the', 'gene', 'for', 'blondes', 'to', 'last', 'beyond', 'the', 'next', 'two', 'centuries', 'The', 'problem', 'is', 'that', 'blonde', 'hair', 'is', 'caused', 'by', 'a', 'recessive', 'gene', 'In', 'order', 'for', 'a', 'child', 'to', 'have', 'blonde', 'hair', 'it', 'must', 'have', 'the', 'gene', 'on', 'both', 'sides', 'of', 'the', 'family', 'in', 'the', 'grandparents', 'generation', 'Dyed', 'rivals', 'The', 'researchers', 'also', 'believe', 'that', 'so called', 'bottle', 'blondes', 'may', 'be', 'to', 'blame', 'for', 'the', 'demise', 'of', 'their', 'natural', 'rivals', 'They', 'suggest', 'that', 'dyed blondes', 'are', 'more', 'attractive', 'to', 'men', 'who', 'choose', 'them', 'as', 'partners', 'over', 'true', 'blondes', 'Bottle blondes', 'like', 'Ann', 'Widdecombe', 'may', 'be', 'to', 'blame', 'But', 'Jonathan', 'Rees', 'professor', 'of', 'dermatology', 'at', 'the', 'University', 'of', 'Edinburgh', 'said', 'it', 'was', 'unlikely', 'blondes', 'would', 'die', 'out', 'completely', 'Genes', 'do', 'n t', 'die', 'out', 'unless', 'there', 'is', 'a', 'disadvantage', 'of', 'having', 'that', 'gene', 'or', 'by', 'chance', 'They', 'do', 'n t', 'disappear', 'he', 'told', 'BBC', 'News', 'Online', 'The', 'only', 'reason', 'blondes', 'would', 'disappear', 'is', 'if', 'having', 'the', 'gene', 'was', 'a', 'disadvantage', 'and', 'I', 'do', 'not', 'think', 'that', 'is', 'the', 'case', 'The', 'frequency', 'of', 'blondes', 'may', 'drop', 'but', 'they', 'wo', 'n t', 'disappear', 'See', 'also', '28', 'Mar', '01', 'Education', 'What', 'is', 'it', 'about', 'blondes', '09', 'Apr', '99', 'Health', 'Platinum', 'blondes', 'are', 'labelled', 'as', 'dumb', '17', 'Apr', '02', 'Health', 'Hair', 'dye', 'cancer', 'alert', 'Internet', 'links', 'University', 'of', 'Edinburgh', 'The', 'BBC', 'is', 'not', 'responsible', 'for', 'the', 'content', 'of', 'external', 'internet', 'sites', 'Top', 'Health', 'stories', 'now', 'Heart', 'risk', 'link', 'to', 'big', 'families', 'Back', 'pain', 'drug', ' may', 'aid', 'diabetics ', 'Congo', 'Ebola', 'outbreak', 'confirmed', 'Vegetables', 'ward', 'off', 'Alzheimer s', 'Polio', 'campaign', 'launched', 'in', 'Iraq', 'Gene', 'defect', 'explains', 'high', 'blood', 'pressure', 'Botox', ' may', 'cause', 'new', 'wrinkles ', 'Alien', ' abductees', 'show', 'real', 'symptoms', 'Links', 'to', 'more', 'Health', 'stories', 'are', 'at', 'the', 'foot', 'of', 'the', 'page', 'E mail', 'this', 'story', 'to', 'a', 'friend', 'Links', 'to', 'more', 'Health', 'stories', 'In', 'This', 'Section', 'Heart', 'risk', 'link', 'to', 'big', 'families', 'Back', 'pain', 'drug', ' may', 'aid', 'diabetics ', 'Congo', 'Ebola', 'outbreak', 'confirmed', 'Vegetables', 'ward', 'off', 'Alzheimer s', 'Polio', 'campaign', 'launched', 'in', 'Iraq', 'Gene', 'defect', 'explains', 'high', 'blood', 'pressure', 'Botox', ' may', 'cause', 'new', 'wrinkles ', 'Alien', ' abductees', 'show', 'real', 'symptoms', 'How', 'sperm', 'wriggle', 'Bollywood', 'told', 'to', 'stub', 'it', 'out', 'Fears', 'over', 'tuna', 'health', 'risk', 'to', 'babies', 'Public', 'can', 'be', 'taught', 'to', 'spot', 'strokes', 'Back', 'to', 'top', 'News', 'Front', 'Page', 'Africa', 'Americas', 'Asia Pacific', 'Europe', 'Middle', 'East', 'South', 'Asia', 'UK', 'Business', 'Entertainment', 'Science Nature', 'Technology', 'Health', 'Talking', 'Point', 'Country', 'Profiles', 'In', 'Depth', 'Programmes', 'To', 'BBC', 'Sport', 'To', 'BBC', 'Weather', 'To', 'BBC', 'World', 'Service', 'MMIII', 'News', 'Sources', 'Privacy', 'var', 'pCid ', 'uk bbc 0', 'var', 'w0 1', 'var', 'refR escape', 'document referrer', 'if', 'refR length', ' 252', 'refR refR substring', '0 252', 'var', 'w0 0', 'if', 'w0', 'var', 'imgN ', 'img', 'src ', 'http', ' server uk imrworldwide com cgi bin count', 'ref ', 'refR ', 'cid pCid ', 'width 1', 'height 1', 'if', 'navigator userAgent indexOf', ' Mac', ' 1', 'document write', 'imgN', 'else', 'document write', 'applet', 'code ', 'Measure class', ' codebase ', 'http', ' server uk imrworldwide com ', ' width 1', 'height 2', 'param', 'name ', 'ref', 'value ', ' refR ', 'param', 'name ', 'cid', 'value ', ' pCid ', 'textflow', ' imgN ', ' textflow', ' applet', 'document write', 'COMMENT', 'var', 'si', 'document location ', 'var', 'tsi', 'si replace', ' stm', ' substr', 'si length 11', 'si length', 'if', 'tsi match', ' d d d d d d d ', 'tsi', '0', 'document write', 'img', 'src ', 'http', ' stats bbc co uk o gif', ' RS s RS News RS t RS HighWeb Legacy RS i RS ', 'tsi', ' RS p RS 0 RS u RS 2 hi health 2284783 stm RS r RS ', 'none', ' RS a RS International RS q RS RS z RS 15 RS ']\n",
            "Empty DataFrame\n",
            "Columns: [BBC, NEWS, Health, Blondes,  to, die, out, in, 200, years , NEWS, SPORT, WEATHER, WORLD, SERVICE, A Z, INDEX, SEARCH, You, are, in, Health, News, Front, Page, Africa, Americas, Asia Pacific, Europe, Middle, East, South, Asia, UK, Business, Entertainment, Science Nature, Technology, Health, Medical, notes, Talking, Point, Country, Profiles, In, Depth, Programmes, SERVICES, Daily, E mail, News, Ticker, Mobile PDAs, Text, Only, Feedback, Help, EDITIONS, Change, to, UK, Friday, 27, September, 2002, 11 51, GMT, 12 51, UK, Blondes,  to, die, out, in, 200, years , Scientists, believe, the, last, blondes, will, be, in, Finland, The, last, natural, blondes, will, die, out, within, 200, years, scientists, believe, A, study, ...]\n",
            "Index: []\n",
            "\n",
            "[0 rows x 644 columns]\n"
          ],
          "name": "stdout"
        }
      ]
    },
    {
      "cell_type": "code",
      "metadata": {
        "id": "6XzWuMoS0Ddi",
        "colab_type": "code",
        "colab": {
          "base_uri": "https://localhost:8080/",
          "height": 252
        },
        "outputId": "8208c954-bfc4-4ade-9b32-e18b8bac6a50"
      },
      "source": [
        "import re\n",
        "from nltk.tokenize import RegexpTokenizer\n",
        "\n",
        "from bs4 import BeautifulSoup\n",
        "from urllib import request\n",
        "import requests\n",
        "import pandas as pd\n",
        "\n",
        "url = \"http://news.bbc.co.uk/2/hi/health/2284783.stm\"\n",
        "# Make the request and check object type\n",
        "r = requests.get(url)\n",
        "# Extract HTML from Response object and print\n",
        "html = r.text\n",
        "# Create a BeautifulSoup object from the HTML\n",
        "soup = BeautifulSoup(html, \"html5lib\")\n",
        "# Get the text out of the soup and print it\n",
        "text = soup.get_text()\n",
        "# Create tokenizer\n",
        "tokenizer = RegexpTokenizer('\\w+')\n",
        "# Create tokens\n",
        "tokens = tokenizer.tokenize(text)\n",
        "# Initialize new list\n",
        "words = []\n",
        "# Loop through list tokens and make lower case\n",
        "for word in tokens:\n",
        "    words.append(word.lower())\n",
        "# Get English stopwords and print some of them\n",
        "sw = nltk.corpus.stopwords.words('english')\n",
        "# Initialize new list\n",
        "words_ns = []\n",
        "# Add to words_ns all words that are in words but not in sw\n",
        "for word in words:\n",
        "    if word not in sw:\n",
        "        words_ns.append(word)\n",
        "\n",
        "# Finding the term frequency\n",
        "l=[]\n",
        "for word in words_ns:\n",
        "  l.append(words_ns.count(word))\n",
        "\n",
        "\n",
        "#data as lists.\n",
        "data = {\n",
        "    'Terms': words_ns,\n",
        "    'Frequency': l\n",
        "}\n",
        "\n",
        "df = pd.DataFrame(data)\n",
        "print(df)"
      ],
      "execution_count": 22,
      "outputs": [
        {
          "output_type": "stream",
          "text": [
            "       Terms  Frequency\n",
            "0        bbc          7\n",
            "1       news          8\n",
            "2     health         11\n",
            "3    blondes         16\n",
            "4        die          5\n",
            "..       ...        ...\n",
            "532       rs         19\n",
            "533        z          2\n",
            "534       rs         19\n",
            "535       07          1\n",
            "536       rs         19\n",
            "\n",
            "[537 rows x 2 columns]\n"
          ],
          "name": "stdout"
        }
      ]
    },
    {
      "cell_type": "code",
      "metadata": {
        "id": "ZBsajlI8As94",
        "colab_type": "code",
        "colab": {
          "base_uri": "https://localhost:8080/",
          "height": 320
        },
        "outputId": "ae546eef-182b-4c56-dd7c-9c344e3eed50"
      },
      "source": [
        "freqdist1 = nltk.FreqDist(words_ns)\n",
        "freqdist1.plot(25)"
      ],
      "execution_count": 24,
      "outputs": [
        {
          "output_type": "display_data",
          "data": {
            "image/png": "[encoded data removed]",
            "text/plain": [
              "<Figure size 432x288 with 1 Axes>"
            ]
          },
          "metadata": {
            "tags": [],
            "needs_background": "light"
          }
        }
      ]
    },
    {
      "cell_type": "code",
      "metadata": {
        "id": "V0a9gWXoByMZ",
        "colab_type": "code",
        "colab": {}
      },
      "source": [
        "import re\n",
        "from nltk.tokenize import RegexpTokenizer\n",
        "\n",
        "from bs4 import BeautifulSoup\n",
        "from urllib import request\n",
        "import requests\n",
        "import pandas as pd\n",
        "\n",
        "url = \"http://news.bbc.co.uk/2/hi/health/2284783.stm\"\n",
        "# Make the request and check object type\n",
        "r = requests.get(url)\n",
        "# Extract HTML from Response object and print\n",
        "html = r.text\n",
        "# Create a BeautifulSoup object from the HTML\n",
        "soup = BeautifulSoup(html, \"html5lib\")\n",
        "# Get the text out of the soup and print it\n",
        "text = soup.get_text()\n",
        "# Create tokenizer\n",
        "tokenizer = RegexpTokenizer('\\w+')\n",
        "# Create tokens\n",
        "tokens = tokenizer.tokenize(text)\n",
        "# Initialize new list\n",
        "words = []\n",
        "# Loop through list tokens and make lower case\n",
        "for word in tokens:\n",
        "    words.append(word.lower())\n",
        "# Get English stopwords and print some of them\n",
        "sw = nltk.corpus.stopwords.words('english')\n",
        "# Initialize new list\n",
        "words_ns = []\n",
        "# Add to words_ns all words that are in words but not in sw\n",
        "for word in words:\n",
        "    if word not in sw:\n",
        "        words_ns.append(word)\n",
        "\n",
        "# Finding the term frequency\n",
        "l=[]\n",
        "for word in words_ns:\n",
        "  l.append(words_ns.count(word))\n",
        "\n",
        "\n",
        "#data as lists.\n",
        "data = {\n",
        "    'Terms': words_ns,\n",
        "    'Frequency': l\n",
        "}\n",
        "\n",
        "df = pd.DataFrame(data)\n",
        "df.to_csv('datafile.csv')"
      ],
      "execution_count": 26,
      "outputs": []
    }
  ]
}